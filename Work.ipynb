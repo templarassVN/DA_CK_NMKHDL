{
 "cells": [
  {
   "cell_type": "code",
   "execution_count": 1,
   "metadata": {},
   "outputs": [],
   "source": [
    "import requests\n",
    "import pandas as pd\n",
    "import numpy as np\n",
    "import time\n",
    "import sklearn\n",
    "from bs4 import BeautifulSoup\n",
    "from selenium import webdriver\n",
    "from sklearn.feature_extraction.text import CountVectorizer\n",
    "from sklearn.model_selection import train_test_split\n",
    "from sklearn.neural_network import MLPClassifier "
   ]
  },
  {
   "cell_type": "code",
   "execution_count": 2,
   "metadata": {},
   "outputs": [],
   "source": [
    "url = 'https://www.amazon.com/Ray-Ban-Aviator-Sunglasses-Polarized-Crystal/dp/B002ZLYRNI?ref_=Oct_DLandingS_D_a093b838_60&smid=ATVPDKIKX0DER&th=1'\n",
    "browser = webdriver.Edge(executable_path='./msedgedriver.exe') \n",
    "browser.maximize_window()\n",
    "browser.get(url)\n",
    "\n",
    "review_page = browser.find_element_by_link_text('See all reviews').click();"
   ]
  },
  {
   "cell_type": "code",
   "execution_count": 3,
   "metadata": {},
   "outputs": [],
   "source": [
    "reviewer_types = browser.find_elements_by_css_selector('#reviewer-type-dropdown option')\n",
    "for reviewer_type in reviewer_types:\n",
    "    if \"Verified purchase only\" in reviewer_type.text:\n",
    "        reviewer_type.click()\n",
    "        break"
   ]
  },
  {
   "cell_type": "code",
   "execution_count": 4,
   "metadata": {},
   "outputs": [],
   "source": [
    "comment_types = browser.find_elements_by_css_selector('#star-count-dropdown option')\n",
    "for comment_type in comment_types:\n",
    "    if \"All positive\" in comment_type.text:\n",
    "        comment_type.click()\n",
    "        break"
   ]
  },
  {
   "cell_type": "code",
   "execution_count": 5,
   "metadata": {},
   "outputs": [],
   "source": [
    "phrases = []\n",
    "status = []"
   ]
  },
  {
   "cell_type": "code",
   "execution_count": 6,
   "metadata": {},
   "outputs": [],
   "source": [
    "for i in range(0,4):\n",
    "    time.sleep(3)\n",
    "    html_text = browser.page_source\n",
    "    tree = BeautifulSoup(html_text, 'html.parser')\n",
    "    reviews = tree.find_all('div',{'data-hook':'review'})\n",
    "    for review in reviews:\n",
    "        content = review.find('span', {'data-hook': 'review-body'})\n",
    "        phrases.append(content.text.strip())\n",
    "        status.append(1)\n",
    "    browser.find_element_by_class_name('a-last').click()\n",
    "   "
   ]
  },
  {
   "cell_type": "code",
   "execution_count": 7,
   "metadata": {},
   "outputs": [],
   "source": [
    "comment_types = browser.find_elements_by_css_selector('#star-count-dropdown option')\n",
    "for comment_type in comment_types:\n",
    "    if \"All critical\" in comment_type.text:\n",
    "        comment_type.click()\n",
    "        break"
   ]
  },
  {
   "cell_type": "code",
   "execution_count": 8,
   "metadata": {},
   "outputs": [],
   "source": [
    "for i in range(0,4):\n",
    "    time.sleep(3)\n",
    "    html_text = browser.page_source\n",
    "    tree = BeautifulSoup(html_text, 'html.parser')\n",
    "    reviews = tree.find_all('div',{'data-hook':'review'})\n",
    "    for review in reviews:\n",
    "        content = review.find('span', {'data-hook': 'review-body'})\n",
    "        phrases.append(content.text.strip())\n",
    "        status.append(0)\n",
    "    browser.find_element_by_class_name('a-last').click()\n",
    "    "
   ]
  },
  {
   "cell_type": "code",
   "execution_count": 9,
   "metadata": {},
   "outputs": [],
   "source": [
    "Data = pd.DataFrame(\n",
    "    {'Para': phrases,\n",
    "     'Stt': status\n",
    "    })\n",
    "#Chưa lowercases"
   ]
  },
  {
   "cell_type": "code",
   "execution_count": 10,
   "metadata": {},
   "outputs": [],
   "source": [
    "Data.to_csv('data.csv',index = False,encoding='utf-16',sep = '\\t')"
   ]
  },
  {
   "cell_type": "code",
   "execution_count": 29,
   "metadata": {},
   "outputs": [],
   "source": [
    "data = pd.read_csv('data.csv',encoding='utf-16',sep = '\\t')\n",
    "phrases = data.Para\n",
    "status = data.Stt"
   ]
  },
  {
   "cell_type": "code",
   "execution_count": 30,
   "metadata": {},
   "outputs": [],
   "source": [
    "import nltk\n",
    "#nltk.download()\n",
    "from nltk.tokenize import sent_tokenize, word_tokenize\n",
    "from nltk.stem.snowball import SnowballStemmer\n",
    "from nltk.corpus import stopwords\n"
   ]
  },
  {
   "cell_type": "code",
   "execution_count": 31,
   "metadata": {},
   "outputs": [],
   "source": [
    "def stemSentence(sentence):\n",
    "    sentence = sentence.lower()\n",
    "    token_words=word_tokenize(sentence)\n",
    "    stem_sentence=[]\n",
    "    for word in token_words:\n",
    "        if (word not in stop_words) and (word not in punc):\n",
    "            stem_sentence.append(englishStemmer.stem(word))\n",
    "            stem_sentence.append(\" \")\n",
    "    return \"\".join(stem_sentence)"
   ]
  },
  {
   "cell_type": "code",
   "execution_count": 32,
   "metadata": {},
   "outputs": [],
   "source": [
    "optimize = []\n",
    "englishStemmer=SnowballStemmer(\"english\")\n",
    "punc = \"!#$%&'()*+,-./:;<=>?@[\\]^_`{|}~\"\n",
    "stop_words = set(stopwords.words('english')) \n",
    "\n",
    "for phrase in phrases:\n",
    "    optimize.append(stemSentence(phrase))"
   ]
  },
  {
   "cell_type": "code",
   "execution_count": 33,
   "metadata": {
    "scrolled": true
   },
   "outputs": [
    {
     "data": {
      "text/plain": [
       "CountVectorizer()"
      ]
     },
     "execution_count": 33,
     "metadata": {},
     "output_type": "execute_result"
    }
   ],
   "source": [
    "vect = CountVectorizer()\n",
    "vect.fit(optimize)"
   ]
  },
  {
   "cell_type": "code",
   "execution_count": 41,
   "metadata": {
    "scrolled": false
   },
   "outputs": [],
   "source": [
    "bag_of_word = vect.transform(optimize)\n",
    "bag_of_word = bag_of_word.toarray()\n"
   ]
  },
  {
   "cell_type": "code",
   "execution_count": 42,
   "metadata": {},
   "outputs": [],
   "source": [
    "train_X, test_X, train_y, test_y = train_test_split(bag_of_word, status, test_size=0.2, \n",
    "                                                    random_state=0, stratify=status)"
   ]
  },
  {
   "cell_type": "code",
   "execution_count": 36,
   "metadata": {},
   "outputs": [
    {
     "data": {
      "text/plain": [
       "0.5"
      ]
     },
     "execution_count": 36,
     "metadata": {},
     "output_type": "execute_result"
    }
   ],
   "source": [
    "train_y.mean()"
   ]
  },
  {
   "cell_type": "code",
   "execution_count": 37,
   "metadata": {},
   "outputs": [],
   "source": [
    "neural_net_model = MLPClassifier(hidden_layer_sizes=(3,), activation='tanh',\n",
    "                                 solver='lbfgs', max_iter=1000, random_state=0)"
   ]
  },
  {
   "cell_type": "code",
   "execution_count": 43,
   "metadata": {},
   "outputs": [
    {
     "data": {
      "text/plain": [
       "MLPClassifier(activation='tanh', hidden_layer_sizes=(3,), max_iter=1000,\n",
       "              random_state=0, solver='lbfgs')"
      ]
     },
     "execution_count": 43,
     "metadata": {},
     "output_type": "execute_result"
    }
   ],
   "source": [
    "neural_net_model.fit(train_X, train_y)"
   ]
  },
  {
   "cell_type": "code",
   "execution_count": 44,
   "metadata": {},
   "outputs": [
    {
     "data": {
      "text/plain": [
       "0.0"
      ]
     },
     "execution_count": 44,
     "metadata": {},
     "output_type": "execute_result"
    }
   ],
   "source": [
    "# Độ lỗi trên tập huấn luyện\n",
    "1 - neural_net_model.score(train_X, train_y)"
   ]
  },
  {
   "cell_type": "code",
   "execution_count": 45,
   "metadata": {
    "scrolled": true
   },
   "outputs": [
    {
     "data": {
      "text/plain": [
       "0.3125"
      ]
     },
     "execution_count": 45,
     "metadata": {},
     "output_type": "execute_result"
    }
   ],
   "source": [
    "1 - neural_net_model.score(test_X, test_y)"
   ]
  },
  {
   "cell_type": "code",
   "execution_count": 26,
   "metadata": {},
   "outputs": [],
   "source": [
    "# Tạo mô hình Neural Net với: \n",
    "# * 1 tầng ẩn gồm 100 nơ-ron, hàm kích hoạt: tanh\n",
    "# * Thuật toán cực tiểu hóa: LBFGS, số vòng lặp tối đa: 1000\n",
    "# * random_state: 0\n",
    "neural_net_model2 = MLPClassifier(hidden_layer_sizes=(10,), activation='tanh',\n",
    "                                 solver='lbfgs', max_iter=1000, random_state=0)"
   ]
  },
  {
   "cell_type": "code",
   "execution_count": 27,
   "metadata": {},
   "outputs": [
    {
     "data": {
      "text/plain": [
       "MLPClassifier(activation='tanh', hidden_layer_sizes=(10,), max_iter=1000,\n",
       "              random_state=0, solver='lbfgs')"
      ]
     },
     "execution_count": 27,
     "metadata": {},
     "output_type": "execute_result"
    }
   ],
   "source": [
    "neural_net_model2.fit(train_X, train_y)"
   ]
  },
  {
   "cell_type": "code",
   "execution_count": 28,
   "metadata": {},
   "outputs": [
    {
     "data": {
      "text/plain": [
       "0.3125"
      ]
     },
     "execution_count": 28,
     "metadata": {},
     "output_type": "execute_result"
    }
   ],
   "source": [
    "1 - neural_net_model.score(test_X, test_y)"
   ]
  }
 ],
 "metadata": {
  "kernelspec": {
   "display_name": "Python 3",
   "language": "python",
   "name": "python3"
  },
  "language_info": {
   "codemirror_mode": {
    "name": "ipython",
    "version": 3
   },
   "file_extension": ".py",
   "mimetype": "text/x-python",
   "name": "python",
   "nbconvert_exporter": "python",
   "pygments_lexer": "ipython3",
   "version": "3.8.3"
  }
 },
 "nbformat": 4,
 "nbformat_minor": 4
}
