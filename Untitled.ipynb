{
 "cells": [
  {
   "cell_type": "code",
   "execution_count": 30,
   "metadata": {},
   "outputs": [],
   "source": [
    "import requests\n",
    "from bs4 import BeautifulSoup\n",
    "from selenium import webdriver"
   ]
  },
  {
   "cell_type": "code",
   "execution_count": 31,
   "metadata": {},
   "outputs": [],
   "source": [
    "url = 'https://www.thegioididong.com/dtdd'\n",
    "html_text = requests.get(url).text\n"
   ]
  },
  {
   "cell_type": "code",
   "execution_count": 32,
   "metadata": {},
   "outputs": [],
   "source": [
    "tree = BeautifulSoup(html_text, 'html.parser')"
   ]
  },
  {
   "cell_type": "code",
   "execution_count": 33,
   "metadata": {},
   "outputs": [
    {
     "data": {
      "text/plain": [
       "28"
      ]
     },
     "execution_count": 33,
     "metadata": {},
     "output_type": "execute_result"
    }
   ],
   "source": [
    "phones = tree.find_all('li', {'class': 'item'})\n",
    "len(phones)"
   ]
  },
  {
   "cell_type": "code",
   "execution_count": 34,
   "metadata": {},
   "outputs": [
    {
     "name": "stdout",
     "output_type": "stream",
     "text": [
      "https://www.thegioididong.com/dtdd/iphone-12-mini\n",
      "https://www.thegioididong.com/dtdd/oppo-a92\n",
      "https://www.thegioididong.com/dtdd/iphone-12\n",
      "https://www.thegioididong.com/dtdd/xiaomi-redmi-9\n",
      "https://www.thegioididong.com/dtdd/samsung-galaxy-note-20-ultra\n",
      "https://www.thegioididong.com/dtdd/samsung-galaxy-a02s\n"
     ]
    }
   ],
   "source": [
    "browser = webdriver.Edge(executable_path='./msedgedriver.exe') \n",
    "browser.maximize_window()\n",
    "i = 0\n",
    "for phone in phones:\n",
    "    link = 'https://www.thegioididong.com'\n",
    "    link += phone.find('a')['href']   \n",
    "    print(link)\n",
    "    browser.get(link)\n",
    "    browser.quit\n",
    "    i+=1\n",
    "    if i > 5:\n",
    "        break\n",
    "    \n",
    "    "
   ]
  }
 ],
 "metadata": {
  "kernelspec": {
   "display_name": "Python 3",
   "language": "python",
   "name": "python3"
  },
  "language_info": {
   "codemirror_mode": {
    "name": "ipython",
    "version": 3
   },
   "file_extension": ".py",
   "mimetype": "text/x-python",
   "name": "python",
   "nbconvert_exporter": "python",
   "pygments_lexer": "ipython3",
   "version": "3.8.3"
  }
 },
 "nbformat": 4,
 "nbformat_minor": 4
}
