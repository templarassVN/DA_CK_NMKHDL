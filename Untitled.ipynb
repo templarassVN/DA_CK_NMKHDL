{
 "cells": [
  {
   "cell_type": "code",
   "execution_count": 41,
   "metadata": {},
   "outputs": [],
   "source": [
    "import requests\n",
    "from bs4 import BeautifulSoup\n",
    "from selenium import webdriver"
   ]
  },
  {
   "cell_type": "code",
   "execution_count": 46,
   "metadata": {},
   "outputs": [
    {
     "data": {
      "text/plain": [
       "148"
      ]
     },
     "execution_count": 46,
     "metadata": {},
     "output_type": "execute_result"
    }
   ],
   "source": [
    "url = 'https://www.thegioididong.com/dtdd'\n",
    "browser = webdriver.Edge(executable_path='./msedgedriver.exe') \n",
    "browser.maximize_window()\n",
    "browser.get(url)\n",
    "i = 0\n",
    "for i in range (1,6):\n",
    "    browser.find_element_by_class_name('viewmore').click()\n",
    "html_text = browser.page_source\n",
    "tree = BeautifulSoup(html_text, 'html.parser')\n"
   ]
  },
  {
   "cell_type": "code",
   "execution_count": 39,
   "metadata": {},
   "outputs": [],
   "source": [
    "phones = tree.find_all('li', {'class': 'item'})\n",
    "len(phones)"
   ]
  },
  {
   "cell_type": "code",
   "execution_count": 40,
   "metadata": {},
   "outputs": [
    {
     "data": {
      "text/plain": [
       "28"
      ]
     },
     "execution_count": 40,
     "metadata": {},
     "output_type": "execute_result"
    }
   ],
   "source": []
  },
  {
   "cell_type": "code",
   "execution_count": 47,
   "metadata": {},
   "outputs": [
    {
     "name": "stdout",
     "output_type": "stream",
     "text": [
      "https://www.thegioididong.com/dtdd/iphone-12-mini\n",
      "https://www.thegioididong.com/dtdd/oppo-a92\n",
      "https://www.thegioididong.com/dtdd/iphone-12\n",
      "https://www.thegioididong.com/dtdd/xiaomi-redmi-9\n",
      "https://www.thegioididong.com/dtdd/samsung-galaxy-note-20-ultra\n",
      "https://www.thegioididong.com/dtdd/samsung-galaxy-a02s\n",
      "https://www.thegioididong.com/dtdd/realme-c17\n",
      "https://www.thegioididong.com/dtdd/vivo-y12s\n",
      "https://www.thegioididong.com/dtdd/samsung-galaxy-z-fold-2\n",
      "https://www.thegioididong.com/dtdd/iphone-12-pro-max-512gb\n",
      "https://www.thegioididong.com/dtdd/iphone-12-pro-512gb\n",
      "https://www.thegioididong.com/dtdd/iphone-11-pro-max-512gb\n",
      "https://www.thegioididong.com/dtdd/iphone-12-pro-max-256gb\n",
      "https://www.thegioididong.com/dtdd/samsung-galaxy-z-flip\n",
      "https://www.thegioididong.com/dtdd/iphone-12-pro-256gb\n",
      "https://www.thegioididong.com/dtdd/iphone-12-pro-max\n",
      "https://www.thegioididong.com/dtdd/samsung-galaxy-note-20-ultra-5g-trang\n",
      "https://www.thegioididong.com/dtdd/samsung-galaxy-note-20-ultra-5g\n",
      "https://www.thegioididong.com/dtdd/iphone-12-pro\n",
      "https://www.thegioididong.com/dtdd/iphone-11-pro-256gb\n",
      "https://www.thegioididong.com/dtdd/iphone-12-256gb\n",
      "https://www.thegioididong.com/dtdd/iphone-12-128gb\n",
      "https://www.thegioididong.com/dtdd/iphone-12-mini-256gb\n",
      "https://www.thegioididong.com/dtdd/samsung-galaxy-s20-plus\n",
      "https://www.thegioididong.com/dtdd/samsung-galaxy-note-20\n",
      "https://www.thegioididong.com/dtdd/oneplus-8-pro\n",
      "https://www.thegioididong.com/dtdd/oppo-find-x2\n",
      "https://www.thegioididong.com/dtdd/iphone-12-mini-128gb\n",
      "https://www.thegioididong.com/dtdd/iphone-11-256gb\n",
      "https://www.thegioididong.com/dtdd/iphone-11-128gb\n",
      "https://www.thegioididong.com/dtdd/samsung-galaxy-s20\n",
      "https://www.thegioididong.com/dtdd/vivo-x50-pro\n",
      "https://www.thegioididong.com/dtdd/iphone-11\n",
      "https://www.thegioididong.com/dtdd/oneplus-8t\n",
      "https://www.thegioididong.com/dtdd/iphone-xs\n",
      "https://www.thegioididong.com/dtdd/samsung-galaxy-note-10-plus\n",
      "https://www.thegioididong.com/dtdd/iphone-se-256gb-2020\n",
      "https://www.thegioididong.com/dtdd/samsung-galaxy-s20-fan-edition\n",
      "https://www.thegioididong.com/dtdd/samsung-galaxy-s10-lite\n",
      "https://www.thegioididong.com/dtdd/iphone-xr\n",
      "https://www.thegioididong.com/dtdd/oppo-reno3-pro\n",
      "https://www.thegioididong.com/dtdd/oneplus-nord-5g\n",
      "https://www.thegioididong.com/dtdd/iphone-se-128gb-2020-hop-moi\n",
      "https://www.thegioididong.com/dtdd/iphone-se-128gb-2020\n",
      "https://www.thegioididong.com/dtdd/nokia-83\n",
      "https://www.thegioididong.com/dtdd/xiaomi-mi-10t-pro\n",
      "https://www.thegioididong.com/dtdd/iphone-se-2020\n",
      "https://www.thegioididong.com/dtdd/iphone-se-64gb-2020-hop-moi\n",
      "https://www.thegioididong.com/dtdd/oppo-reno4-pro\n",
      "https://www.thegioididong.com/dtdd/samsung-galaxy-note-10-lite\n",
      "https://www.thegioididong.com/dtdd/samsung-galaxy-a71\n",
      "https://www.thegioididong.com/dtdd/iphone-7-128gb\n",
      "https://www.thegioididong.com/dtdd/vsmart-aris-pro\n",
      "https://www.thegioididong.com/dtdd/samsung-galaxy-m51\n",
      "https://www.thegioididong.com/dtdd/samsung-galaxy-a70\n",
      "https://www.thegioididong.com/dtdd/oppo-reno5\n",
      "https://www.thegioididong.com/dtdd/realme-7-pro\n",
      "https://www.thegioididong.com/dtdd/iphone-7\n",
      "https://www.thegioididong.com/dtdd/vivo-v19\n",
      "https://www.thegioididong.com/dtdd/vivo-v20\n",
      "https://www.thegioididong.com/dtdd/oppo-reno4\n",
      "https://www.thegioididong.com/dtdd/samsung-galaxy-a51-8gb\n",
      "https://www.thegioididong.com/dtdd/oneplus-nord-n10-5g\n",
      "https://www.thegioididong.com/dtdd/samsung-galaxy-a51\n",
      "https://www.thegioididong.com/dtdd/realme-6-pro\n",
      "https://www.thegioididong.com/dtdd/vivo-v19-neo\n",
      "https://www.thegioididong.com/dtdd/vsmart-aris\n",
      "https://www.thegioididong.com/dtdd/vsmart-aris-8gb-128gb\n",
      "https://www.thegioididong.com/dtdd/oppo-a93\n",
      "https://www.thegioididong.com/dtdd/vivo-v20-se\n",
      "https://www.thegioididong.com/dtdd/samsung-galaxy-a50s\n",
      "https://www.thegioididong.com/dtdd/realme-7\n",
      "https://www.thegioididong.com/dtdd/xiaomi-redmi-note-9-pro-128gb\n",
      "https://www.thegioididong.com/dtdd/huawei-nova-7i\n",
      "https://www.thegioididong.com/dtdd/xiaomi-poco-x3\n",
      "https://www.thegioididong.com/dtdd/oppo-reno3\n",
      "https://www.thegioididong.com/dtdd/xiaomi-redmi-note-9-pro\n",
      "https://www.thegioididong.com/dtdd/samsung-galaxy-a31\n",
      "https://www.thegioididong.com/dtdd/samsung-galaxy-a30s\n",
      "https://www.thegioididong.com/dtdd/realme-7i\n",
      "https://www.thegioididong.com/dtdd/vivo-y50\n",
      "https://www.thegioididong.com/dtdd/realme-6\n",
      "https://www.thegioididong.com/dtdd/xiaomi-redmi-note-9s\n",
      "https://www.thegioididong.com/dtdd/xiaomi-redmi-note-8-pro-6gb-128gb\n",
      "https://www.thegioididong.com/dtdd/vivo-s1-pro\n",
      "https://www.thegioididong.com/dtdd/samsung-galaxy-a21s\n",
      "https://www.thegioididong.com/dtdd/samsung-galaxy-a20s\n",
      "https://www.thegioididong.com/dtdd/oppo-a31-2020-128gb\n",
      "https://www.thegioididong.com/dtdd/realme-6i\n",
      "https://www.thegioididong.com/dtdd/vivo-y20s\n",
      "https://www.thegioididong.com/dtdd/xiaomi-redmi-note-9\n",
      "https://www.thegioididong.com/dtdd/vivo-y19\n",
      "https://www.thegioididong.com/dtdd/xiaomi-redmi-note-8-128gb\n",
      "https://www.thegioididong.com/dtdd/vsmart-live-4-6gb\n",
      "https://www.thegioididong.com/dtdd/samsung-galaxy-a21s-3gb\n",
      "https://www.thegioididong.com/dtdd/samsung-galaxy-a12-6gb\n",
      "https://www.thegioididong.com/dtdd/oppo-a53-2020\n",
      "https://www.thegioididong.com/dtdd/vivo-y30\n",
      "https://www.thegioididong.com/dtdd/xiaomi-redmi-note-8\n",
      "https://www.thegioididong.com/dtdd/oppo-a31-4gb-128gb\n",
      "https://www.thegioididong.com/dtdd/vsmart-live-4\n",
      "https://www.thegioididong.com/dtdd/samsung-galaxy-a20s-32gb\n",
      "https://www.thegioididong.com/dtdd/samsung-galaxy-a12\n",
      "https://www.thegioididong.com/dtdd/vivo-y12s-4gb-128gb\n",
      "https://www.thegioididong.com/dtdd/realme-c15\n",
      "https://www.thegioididong.com/dtdd/vivo-y20\n",
      "https://www.thegioididong.com/dtdd/vsmart-joy-4-6gb\n",
      "https://www.thegioididong.com/dtdd/vsmart-active-3-6gb\n",
      "https://www.thegioididong.com/dtdd/xiaomi-redmi-note-8-32gb\n",
      "https://www.thegioididong.com/dtdd/vivo-u10\n",
      "https://www.thegioididong.com/dtdd/samsung-galaxy-a11\n",
      "https://www.thegioididong.com/dtdd/samsung-galaxy-a10s\n",
      "https://www.thegioididong.com/dtdd/realme-5i-4gb\n",
      "https://www.thegioididong.com/dtdd/nokia-34\n",
      "https://www.thegioididong.com/dtdd/realme-c3-64gb\n",
      "https://www.thegioididong.com/dtdd/vsmart-joy-4-4gb-64gb\n",
      "https://www.thegioididong.com/dtdd/xiaomi-redmi-9-3gb\n",
      "https://www.thegioididong.com/dtdd/huawei-y6p\n",
      "https://www.thegioididong.com/dtdd/oppo-a15\n",
      "https://www.thegioididong.com/dtdd/realme-c12\n",
      "https://www.thegioididong.com/dtdd/vsmart-joy-4\n",
      "https://www.thegioididong.com/dtdd/vsmart-joy-3-4gb\n",
      "https://www.thegioididong.com/dtdd/vivo-y11\n",
      "https://www.thegioididong.com/dtdd/xiaomi-redmi-9c-3gb\n",
      "https://www.thegioididong.com/dtdd/realme-c3\n",
      "https://www.thegioididong.com/dtdd/nokia-53\n",
      "https://www.thegioididong.com/dtdd/samsung-galaxy-a01\n",
      "https://www.thegioididong.com/dtdd/nokia-24\n",
      "https://www.thegioididong.com/dtdd/realme-c11\n",
      "https://www.thegioididong.com/dtdd/vivo-y1s\n",
      "https://www.thegioididong.com/dtdd/vsmart-joy-3\n",
      "https://www.thegioididong.com/dtdd/xiaomi-redmi-9c\n",
      "https://www.thegioididong.com/dtdd/vsmart-star-4-3gb\n",
      "https://www.thegioididong.com/dtdd/vsmart-star-4\n",
      "https://www.thegioididong.com/dtdd/vsmart-star-4-16gb\n",
      "https://www.thegioididong.com/dtdd/itel-s15-pro\n",
      "https://www.thegioididong.com/dtdd/xiaomi-redmi-9a\n",
      "https://www.thegioididong.com/dtdd/nokia-8000-4g\n",
      "https://www.thegioididong.com/dtdd/nokia-c2\n",
      "https://www.thegioididong.com/dtdd/vsmart-bee-3\n",
      "https://www.thegioididong.com/dtdd/nokia-6300-4g\n",
      "https://www.thegioididong.com/dtdd/nokia-230-khong-the\n",
      "https://www.thegioididong.com/dtdd/masstel-hapi-10-fami\n",
      "https://www.thegioididong.com/dtdd/nokia-5310-2020\n",
      "https://www.thegioididong.com/dtdd/itel-alpha-lite\n",
      "https://www.thegioididong.com/dtdd/masstel-x5-fami\n",
      "https://www.thegioididong.com/dtdd/mobell-p41\n",
      "https://www.thegioididong.com/dtdd/energizer-e241s\n"
     ]
    }
   ],
   "source": [
    "i = 0\n",
    "for phone in phones:\n",
    "    link = 'https://www.thegioididong.com'\n",
    "    link += phone.find('a')['href']   \n",
    "    print(link)\n",
    "    i+=1\n",
    "    \n",
    "    \n",
    "    "
   ]
  }
 ],
 "metadata": {
  "kernelspec": {
   "display_name": "Python 3",
   "language": "python",
   "name": "python3"
  },
  "language_info": {
   "codemirror_mode": {
    "name": "ipython",
    "version": 3
   },
   "file_extension": ".py",
   "mimetype": "text/x-python",
   "name": "python",
   "nbconvert_exporter": "python",
   "pygments_lexer": "ipython3",
   "version": "3.8.3"
  }
 },
 "nbformat": 4,
 "nbformat_minor": 4
}
